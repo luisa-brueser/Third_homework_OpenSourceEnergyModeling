{
 "cells": [
  {
   "cell_type": "markdown",
   "metadata": {
    "slideshow": {
     "slide_type": "slide"
    }
   },
   "source": [
    "# Open Source Energy Modeling - 3 rd Homework - Task 2\n",
    "\n",
    "## *Adding a new technology: gas power plant*\n",
    "\n",
    "The following simple energy model using *MESSAGEix* is based on the Westeros Baseline Tutorials, which can be found [here](https://message.iiasa.ac.at/en/stable/tutorials.html). The baseline model was adaped by adding gas power plant as a new technology. In the second part of the task, a CO2 bound was added to the model in order to determine a carbon price under which Gas, Wind and Coal are used at the same time. For this the tutorials westeros_emissions_bounds and westeros_emissions_taxes were used.\n"
   ]
  },
  {
   "cell_type": "markdown",
   "metadata": {
    "slideshow": {
     "slide_type": "slide"
    }
   },
   "source": [
    "## Part 1a - Adding new technology and defining parameters of gas plants\n",
    "\n"
   ]
  },
  {
   "cell_type": "markdown",
   "metadata": {
    "slideshow": {
     "slide_type": "slide"
    }
   },
   "source": [
    "Like in the tutorial all the packages are imported. The *ixmp* `Platform` is your connection to a database for storing model input data and scenario results."
   ]
  },
  {
   "cell_type": "code",
   "execution_count": 1533,
   "metadata": {
    "slideshow": {
     "slide_type": "fragment"
    }
   },
   "outputs": [],
   "source": [
    "import pandas as pd\n",
    "import ixmp\n",
    "import message_ix\n",
    "\n",
    "from message_ix.utils import make_df\n",
    "\n",
    "%matplotlib inline"
   ]
  },
  {
   "cell_type": "code",
   "execution_count": 1534,
   "metadata": {
    "slideshow": {
     "slide_type": "fragment"
    }
   },
   "outputs": [
    {
     "name": "stderr",
     "output_type": "stream",
     "text": [
      "INFO:ixmp.backend.jdbc:launching ixmp.Platform connected to jdbc:hsqldb:file:C:/Users/Luisa/.local/share/ixmp/localdb/default\n"
     ]
    }
   ],
   "source": [
    "mp = ixmp.Platform()"
   ]
  },
  {
   "cell_type": "markdown",
   "metadata": {
    "slideshow": {
     "slide_type": "slide"
    }
   },
   "source": [
    "The baseline scenario is cloned to create a new sencario called scen."
   ]
  },
  {
   "cell_type": "code",
   "execution_count": 1535,
   "metadata": {
    "slideshow": {
     "slide_type": "fragment"
    }
   },
   "outputs": [],
   "source": [
    "model = 'Westeros Electrified'\n",
    "\n",
    "base = message_ix.Scenario(mp, model=model, scenario='baseline')\n",
    "scen = base.clone(model, 'Adding Gas','Adding New Technology Gas power plant',\n",
    "                  keep_solution=False)\n",
    "scen.check_out()"
   ]
  },
  {
   "cell_type": "markdown",
   "metadata": {
    "slideshow": {
     "slide_type": "slide"
    }
   },
   "source": [
    "The model structure defining time and location is kept like in the tutorial."
   ]
  },
  {
   "cell_type": "code",
   "execution_count": 1536,
   "metadata": {},
   "outputs": [],
   "source": [
    "history = [690]\n",
    "model_horizon = [700, 710, 720]\n",
    "scen.add_horizon({'year': history + model_horizon,  \n",
    "                      'firstmodelyear': model_horizon[0]})\n",
    "\n",
    "country = 'Westeros'\n",
    "scen.add_spatial_sets({'country': country})"
   ]
  },
  {
   "cell_type": "code",
   "execution_count": 1537,
   "metadata": {},
   "outputs": [],
   "source": [
    "year_df = scen.vintage_and_active_years()\n",
    "vintage_years, act_years = year_df['year_vtg'], year_df['year_act']"
   ]
  },
  {
   "cell_type": "markdown",
   "metadata": {},
   "source": [
    "A new technology namely gas power plant is added."
   ]
  },
  {
   "cell_type": "code",
   "execution_count": 1538,
   "metadata": {
    "slideshow": {
     "slide_type": "fragment"
    }
   },
   "outputs": [],
   "source": [
    "scen.add_set(\"technology\", ['gas_ppl'])"
   ]
  },
  {
   "cell_type": "markdown",
   "metadata": {
    "slideshow": {
     "slide_type": "slide"
    }
   },
   "source": [
    "### Supply and Demand"
   ]
  },
  {
   "cell_type": "markdown",
   "metadata": {
    "slideshow": {
     "slide_type": "slide"
    }
   },
   "source": [
    "The demand is taken from the tutorial:\n",
    "\n",
    "- 40 million people in [300 AC](https://atlasoficeandfireblog.wordpress.com/2016/03/06/the-population-of-the-seven-kingdoms/)\n",
    "- similar population growth to Earth in the same time frame [(~factor of 12)](https://en.wikipedia.org/wiki/World_population_estimates)\n",
    "- a per capita demand for electricity of 1000 kWh\n",
    "- and 8760 hours in a year \n"
   ]
  },
  {
   "cell_type": "code",
   "execution_count": 1539,
   "metadata": {},
   "outputs": [],
   "source": [
    "demand_per_year = 40 * 12 * 1000 / 8760"
   ]
  },
  {
   "cell_type": "markdown",
   "metadata": {
    "slideshow": {
     "slide_type": "fragment"
    }
   },
   "source": [
    "In order to define the input and output commodites of each technology, some common keys are defined."
   ]
  },
  {
   "cell_type": "code",
   "execution_count": 1540,
   "metadata": {
    "slideshow": {
     "slide_type": "skip"
    }
   },
   "outputs": [],
   "source": [
    "year_df = scen.vintage_and_active_years()\n",
    "vintage_years, act_years = year_df['year_vtg'], year_df['year_act']\n",
    "\n",
    "base = {\n",
    "    'node_loc': country,\n",
    "    'year_vtg': vintage_years,\n",
    "    'year_act': act_years,\n",
    "    'mode': 'standard',\n",
    "    'time': 'year',\n",
    "    'unit': '-',\n",
    "}\n",
    "\n",
    "base_input = make_df(base, node_origin=country, time_origin='year')\n",
    "base_output = make_df(base, node_dest=country, time_dest='year')"
   ]
  },
  {
   "cell_type": "markdown",
   "metadata": {
    "slideshow": {
     "slide_type": "slide"
    }
   },
   "source": [
    "Because the grid has transmission losses, only 90% of the input electricity is available as output."
   ]
  },
  {
   "cell_type": "code",
   "execution_count": 1541,
   "metadata": {},
   "outputs": [],
   "source": [
    "grid_efficiency = 0.9\n",
    "grid_out = make_df(base_output, technology='grid', commodity='electricity', \n",
    "                   level='final', value=grid_efficiency)\n",
    "scen.add_par('output', grid_out)\n",
    "\n",
    "grid_in = make_df(base_input, technology='grid', commodity='electricity',\n",
    "                  level='secondary', value=1.0)\n",
    "scen.add_par('input', grid_in)"
   ]
  },
  {
   "cell_type": "markdown",
   "metadata": {
    "slideshow": {
     "slide_type": "slide"
    }
   },
   "source": [
    "In- and Output of the new gas plant are added. (The model does not include the fossil resources used as `input` for coal plants; however, costs of coal extraction are included in the parameter $variable\\_cost$.)"
   ]
  },
  {
   "cell_type": "code",
   "execution_count": 1542,
   "metadata": {
    "slideshow": {
     "slide_type": "fragment"
    }
   },
   "outputs": [],
   "source": [
    "gas_out = make_df(base_output, technology='gas_ppl', commodity='electricity',\n",
    "                  level='secondary', value=1.)\n",
    "scen.add_par('output', gas_out)"
   ]
  },
  {
   "cell_type": "markdown",
   "metadata": {
    "slideshow": {
     "slide_type": "slide"
    }
   },
   "source": [
    "### Operational constraints"
   ]
  },
  {
   "cell_type": "markdown",
   "metadata": {
    "slideshow": {
     "slide_type": "slide"
    }
   },
   "source": [
    "Alike coal the `capacity_factor` for gas is set to 1 as it is assumed that all installed capacity can be active at all time."
   ]
  },
  {
   "cell_type": "code",
   "execution_count": 1543,
   "metadata": {
    "slideshow": {
     "slide_type": "skip"
    }
   },
   "outputs": [],
   "source": [
    "base_capacity_factor = {\n",
    "    'node_loc': country,\n",
    "    'year_vtg': vintage_years,\n",
    "    'year_act': act_years,\n",
    "    'time': 'year',\n",
    "    'unit': '-',\n",
    "}"
   ]
  },
  {
   "cell_type": "code",
   "execution_count": 1544,
   "metadata": {
    "slideshow": {
     "slide_type": "fragment"
    }
   },
   "outputs": [],
   "source": [
    "capacity_factor = {\n",
    "    'coal_ppl': 1,\n",
    "    'wind_ppl': 0.36,\n",
    "    'gas_ppl': 1,\n",
    "    'bulb': 1, \n",
    "}\n",
    "\n",
    "for tec, val in capacity_factor.items():\n",
    "    df = make_df(base_capacity_factor, technology=tec, value=val)\n",
    "    scen.add_par('capacity_factor', df)"
   ]
  },
  {
   "cell_type": "markdown",
   "metadata": {
    "slideshow": {
     "slide_type": "slide"
    }
   },
   "source": [
    "The `technical_lifetime` for a gas plant is added. The technical lifetime of a gas power plant is assumed to be 30 yrs. This information is taken from the [IEA ETSAP - Technology Brief E02](https://iea-etsap.org/E-TechDS/PDF/E02-gas_fired_power-GS-AD-gct.pdf) (page 4). "
   ]
  },
  {
   "cell_type": "code",
   "execution_count": 1545,
   "metadata": {
    "slideshow": {
     "slide_type": "skip"
    }
   },
   "outputs": [],
   "source": [
    "base_technical_lifetime = {\n",
    "    'node_loc': country,\n",
    "    'year_vtg': model_horizon,\n",
    "    'unit': 'y',\n",
    "}"
   ]
  },
  {
   "cell_type": "code",
   "execution_count": 1546,
   "metadata": {
    "slideshow": {
     "slide_type": "fragment"
    }
   },
   "outputs": [],
   "source": [
    "lifetime = {\n",
    "    'coal_ppl': 20,\n",
    "    'wind_ppl': 20,\n",
    "    'gas_ppl': 30,\n",
    "    'bulb': 1,\n",
    "}\n",
    "\n",
    "for tec, val in lifetime.items():\n",
    "    df = make_df(base_technical_lifetime, technology=tec, value=val)\n",
    "    scen.add_par('technical_lifetime', df)"
   ]
  },
  {
   "cell_type": "markdown",
   "metadata": {
    "slideshow": {
     "slide_type": "slide"
    }
   },
   "source": [
    "### Technological Diffusion and Contraction\n",
    "\n",
    "Alike in the tutorial all technologies (incl. Gas) are limited in their ability to grow. The constraint is set at 10% per year."
   ]
  },
  {
   "cell_type": "code",
   "execution_count": 1547,
   "metadata": {
    "slideshow": {
     "slide_type": "skip"
    }
   },
   "outputs": [],
   "source": [
    "base_growth = {\n",
    "    'node_loc': country,\n",
    "    'year_act': model_horizon,\n",
    "    'time': 'year',\n",
    "    'unit': '-',\n",
    "}"
   ]
  },
  {
   "cell_type": "code",
   "execution_count": 1548,
   "metadata": {
    "slideshow": {
     "slide_type": "fragment"
    }
   },
   "outputs": [],
   "source": [
    "growth_technologies = [\n",
    "    \"coal_ppl\", \n",
    "    \"wind_ppl\",\n",
    "    \"gas_ppl\", \n",
    "]\n",
    "\n",
    "for tec in growth_technologies:\n",
    "    df = make_df(base_growth, technology=tec, value=0.1) \n",
    "    scen.add_par('growth_activity_up', df)"
   ]
  },
  {
   "cell_type": "markdown",
   "metadata": {
    "slideshow": {
     "slide_type": "slide"
    }
   },
   "source": [
    "## Part 1b - Defining Energy Mix \n",
    "\n",
    "In the following part the energy mix is defined. For this model the a mix of 40% Wind (same as tutorial), 40% coal and 20% gas in the historic period was chosen. "
   ]
  },
  {
   "cell_type": "code",
   "execution_count": 1549,
   "metadata": {
    "slideshow": {
     "slide_type": "fragment"
    }
   },
   "outputs": [],
   "source": [
    "historic_demand = 0.85 * demand_per_year\n",
    "historic_generation = historic_demand / grid_efficiency\n",
    "coal_fraction = 0.4\n",
    "gas_fraction = 0.2"
   ]
  },
  {
   "cell_type": "code",
   "execution_count": 1550,
   "metadata": {
    "slideshow": {
     "slide_type": "skip"
    }
   },
   "outputs": [],
   "source": [
    "base_capacity = {\n",
    "    'node_loc': country,\n",
    "    'year_vtg': history,\n",
    "    'unit': 'GWa',\n",
    "}\n",
    "\n",
    "base_activity = {\n",
    "    'node_loc': country,\n",
    "    'year_act': history,\n",
    "    'mode': 'standard',\n",
    "    'time': 'year',\n",
    "    'unit': 'GWa',\n",
    "}"
   ]
  },
  {
   "cell_type": "code",
   "execution_count": 1551,
   "metadata": {
    "slideshow": {
     "slide_type": "fragment"
    }
   },
   "outputs": [],
   "source": [
    "old_activity = {\n",
    "    'coal_ppl': coal_fraction * historic_generation,\n",
    "    'gas_ppl': gas_fraction * historic_generation,\n",
    "    'wind_ppl': (1-gas_fraction-coal_fraction) * historic_generation,\n",
    "    \n",
    "}\n",
    "\n",
    "for tec, val in old_activity.items():\n",
    "    df = make_df(base_activity, technology=tec, value=val)\n",
    "    scen.add_par('historical_activity', df)"
   ]
  },
  {
   "cell_type": "code",
   "execution_count": 1552,
   "metadata": {
    "slideshow": {
     "slide_type": "fragment"
    }
   },
   "outputs": [],
   "source": [
    "act_to_cap = {\n",
    "    'coal_ppl': 1 / 10 / capacity_factor['coal_ppl'] / 2, # 20 year lifetime\n",
    "    'wind_ppl': 1 / 10 / capacity_factor['wind_ppl'] / 2,\n",
    "    'gas_ppl': 1 / 10 / capacity_factor['gas_ppl'] / 3, # 30 year lifetime!\n",
    "}\n",
    "\n",
    "for tec in act_to_cap:\n",
    "    value = old_activity[tec] * act_to_cap[tec]\n",
    "    df = make_df(base_capacity, technology=tec, value=value)\n",
    "    scen.add_par('historical_new_capacity', df)"
   ]
  },
  {
   "cell_type": "markdown",
   "metadata": {
    "slideshow": {
     "slide_type": "slide"
    }
   },
   "source": [
    "## Part 1c - Adding costs (Objective Function)\n",
    "\n",
    "For the following cost parameters it is assumed that the gas plants run using combined-cycle gas turbines (CCGT)."
   ]
  },
  {
   "cell_type": "markdown",
   "metadata": {
    "slideshow": {
     "slide_type": "fragment"
    }
   },
   "source": [
    "The interest rate parameter is kept the same."
   ]
  },
  {
   "cell_type": "code",
   "execution_count": 1553,
   "metadata": {
    "slideshow": {
     "slide_type": "fragment"
    }
   },
   "outputs": [],
   "source": [
    "scen.add_par(\"interestrate\", model_horizon, value=0.05, unit='-')"
   ]
  },
  {
   "cell_type": "markdown",
   "metadata": {
    "slideshow": {
     "slide_type": "slide"
    }
   },
   "source": [
    "### Investment Costs\n",
    "\n",
    "The investment costs are assumed to be 1100 $/kW  ([IEA ETSAP - Technology Brief E02](https://iea-etsap.org/E-TechDS/PDF/E02-gas_fired_power-GS-AD-gct.pdf) (page 4))\n"
   ]
  },
  {
   "cell_type": "code",
   "execution_count": 1554,
   "metadata": {
    "slideshow": {
     "slide_type": "skip"
    }
   },
   "outputs": [
    {
     "name": "stderr",
     "output_type": "stream",
     "text": [
      "INFO:root:unit `USD/kW` is already defined in the platform instance\n"
     ]
    }
   ],
   "source": [
    "base_inv_cost = {\n",
    "    'node_loc': country,\n",
    "    'year_vtg': model_horizon,\n",
    "    'unit': 'USD/kW',\n",
    "}\n",
    "\n",
    "# Adding a new unit to the library\n",
    "mp.add_unit('USD/kW')     "
   ]
  },
  {
   "cell_type": "code",
   "execution_count": 1555,
   "metadata": {
    "slideshow": {
     "slide_type": "fragment"
    }
   },
   "outputs": [],
   "source": [
    "# in $ / kW (specific investment cost)\n",
    "costs = {\n",
    "    'coal_ppl': 500,\n",
    "    'wind_ppl': 1500,\n",
    "    'gas_ppl': 1100,\n",
    "    'bulb': 5,\n",
    "}\n",
    "\n",
    "for tec, val in costs.items():\n",
    "    df = make_df(base_inv_cost, technology=tec, value=val)\n",
    "    scen.add_par('inv_cost', df)"
   ]
  },
  {
   "cell_type": "markdown",
   "metadata": {
    "slideshow": {
     "slide_type": "slide"
    }
   },
   "source": [
    "### Fixed O&M Costs\n",
    "\n",
    "The fixes O&M costs are assumed to be 44 $/kW/a ([IEA ETSAP - Technology Brief E02](https://iea-etsap.org/E-TechDS/PDF/E02-gas_fired_power-GS-AD-gct.pdf) (page 4))"
   ]
  },
  {
   "cell_type": "code",
   "execution_count": 1556,
   "metadata": {
    "slideshow": {
     "slide_type": "skip"
    }
   },
   "outputs": [],
   "source": [
    "base_fix_cost = {\n",
    "    'node_loc': country,\n",
    "    'year_vtg': vintage_years,\n",
    "    'year_act': act_years,\n",
    "    'unit': 'USD/kWa',\n",
    "}"
   ]
  },
  {
   "cell_type": "code",
   "execution_count": 1557,
   "metadata": {
    "slideshow": {
     "slide_type": "fragment"
    }
   },
   "outputs": [],
   "source": [
    "# in $ / kW / year (every year a fixed quantity is destinated to cover part of the O&M costs\n",
    "# based on the size of the plant, e.g. lightning, labor, scheduled maintenance, etc.)\n",
    "\n",
    "costs = {\n",
    "    'coal_ppl': 30,\n",
    "    'gas_ppl': 44,\n",
    "    'wind_ppl': 10,\n",
    "}\n",
    "\n",
    "for tec, val in costs.items():\n",
    "    df = make_df(base_fix_cost, technology=tec, value=val)\n",
    "    scen.add_par('fix_cost', df)"
   ]
  },
  {
   "cell_type": "markdown",
   "metadata": {
    "slideshow": {
     "slide_type": "slide"
    }
   },
   "source": [
    "### Variable O&M Costs\n",
    "\n",
    "The [(Advanced System Studies for Energy Transition](https://ec.europa.eu/energy/sites/ener/files/documents/2018_06_27_technology_pathways_-_finalreportmain2.pdff) (page 44) states the variable non fuel costs for CCGT with 1,99 €/MWh which converts to 19,05 $/kWa."
   ]
  },
  {
   "cell_type": "code",
   "execution_count": 1558,
   "metadata": {
    "slideshow": {
     "slide_type": "skip"
    }
   },
   "outputs": [],
   "source": [
    "base_var_cost = {\n",
    "    'node_loc': country,\n",
    "    'year_vtg': vintage_years,\n",
    "    'year_act': act_years,\n",
    "    'mode': 'standard',\n",
    "    'time': 'year',\n",
    "    'unit': 'USD/kWa',\n",
    "}"
   ]
  },
  {
   "cell_type": "code",
   "execution_count": 1559,
   "metadata": {
    "slideshow": {
     "slide_type": "fragment"
    }
   },
   "outputs": [],
   "source": [
    "costs = {\n",
    "    'coal_ppl': 30,\n",
    "    'gas_ppl': 19.05,\n",
    "    'grid': 50,\n",
    "}\n",
    "\n",
    "for tec, val in costs.items():\n",
    "    df = make_df(base_var_cost, technology=tec, value=val)\n",
    "    scen.add_par('var_cost', df)"
   ]
  },
  {
   "cell_type": "markdown",
   "metadata": {
    "slideshow": {
     "slide_type": "slide"
    }
   },
   "source": [
    "### Solving the Model"
   ]
  },
  {
   "cell_type": "code",
   "execution_count": 1560,
   "metadata": {
    "slideshow": {
     "slide_type": "fragment"
    }
   },
   "outputs": [
    {
     "name": "stderr",
     "output_type": "stream",
     "text": [
      "INFO:message_ix:version number prior to commit: 54\n",
      "INFO:message_ix:version number prior committing to the database: 54\n"
     ]
    }
   ],
   "source": [
    "from message_ix import log\n",
    "\n",
    "log.info('version number prior to commit: {}'.format(scen.version))\n",
    "\n",
    "scen.commit(comment='basic model of Westeros with gas addition')\n",
    "\n",
    "log.info('version number prior committing to the database: {}'.format(scen.version))"
   ]
  },
  {
   "cell_type": "code",
   "execution_count": 1561,
   "metadata": {
    "slideshow": {
     "slide_type": "fragment"
    }
   },
   "outputs": [],
   "source": [
    "scen.set_as_default()"
   ]
  },
  {
   "cell_type": "code",
   "execution_count": 1562,
   "metadata": {
    "slideshow": {
     "slide_type": "fragment"
    }
   },
   "outputs": [],
   "source": [
    "scen.solve()"
   ]
  },
  {
   "cell_type": "code",
   "execution_count": 1563,
   "metadata": {
    "jupyter": {
     "name": "solve-objective-value"
    },
    "slideshow": {
     "slide_type": "fragment"
    }
   },
   "outputs": [
    {
     "data": {
      "text/plain": [
       "244551.625"
      ]
     },
     "execution_count": 1563,
     "metadata": {},
     "output_type": "execute_result"
    }
   ],
   "source": [
    "scen.var('OBJ')['lvl']"
   ]
  },
  {
   "cell_type": "markdown",
   "metadata": {},
   "source": [
    "### Plotting Results\n",
    "As seen in the following plots, the three technologys do not coexist in the year 720 anymore. This will bechanged by introducing an emissiobn bound in the 2nd Part."
   ]
  },
  {
   "cell_type": "code",
   "execution_count": 1564,
   "metadata": {},
   "outputs": [],
   "source": [
    "from tools import Plots\n",
    "p = Plots(scen, country, firstyear=model_horizon[0])"
   ]
  },
  {
   "cell_type": "code",
   "execution_count": 1565,
   "metadata": {},
   "outputs": [
    {
     "data": {
      "image/png": "[encoded data removed]",
      "text/plain": [
       "<Figure size 432x288 with 1 Axes>"
      ]
     },
     "metadata": {
      "needs_background": "light"
     },
     "output_type": "display_data"
    }
   ],
   "source": [
    "p.plot_activity(baseyear=True, subset=['coal_ppl', 'wind_ppl', 'gas_ppl'])"
   ]
  },
  {
   "cell_type": "code",
   "execution_count": 1566,
   "metadata": {},
   "outputs": [
    {
     "data": {
      "image/png": "[encoded data removed]",
      "text/plain": [
       "<Figure size 432x288 with 1 Axes>"
      ]
     },
     "metadata": {
      "needs_background": "light"
     },
     "output_type": "display_data"
    }
   ],
   "source": [
    "p.plot_capacity(baseyear=True, subset=['coal_ppl', 'wind_ppl', 'gas_ppl'])"
   ]
  },
  {
   "cell_type": "code",
   "execution_count": 1567,
   "metadata": {},
   "outputs": [
    {
     "data": {
      "image/png": "[encoded data removed]",
      "text/plain": [
       "<Figure size 432x288 with 1 Axes>"
      ]
     },
     "metadata": {
      "needs_background": "light"
     },
     "output_type": "display_data"
    }
   ],
   "source": [
    "p.plot_prices(subset=['light'], baseyear=True)"
   ]
  },
  {
   "cell_type": "markdown",
   "metadata": {
    "slideshow": {
     "slide_type": "slide"
    }
   },
   "source": [
    "## Part 2 - Adding Emission Bound\n",
    "For the following part the baseline senario is cloned and an upper bound on emissions is introduced. As a next step the emissions bound is adapted in a way that the three technologies coexisted throughout the model horizon."
   ]
  },
  {
   "cell_type": "code",
   "execution_count": 1568,
   "metadata": {},
   "outputs": [],
   "source": [
    "scen_bound = scen.clone(model, 'emission_bound','introducing an upper bound on emissions',\n",
    "                  keep_solution=False)\n",
    "scen_bound.check_out()"
   ]
  },
  {
   "cell_type": "code",
   "execution_count": 1569,
   "metadata": {},
   "outputs": [],
   "source": [
    "year_df = scen_bound.vintage_and_active_years()\n",
    "vintage_years, act_years = year_df['year_vtg'], year_df['year_act']\n",
    "model_horizon = scen_bound.set('year')\n",
    "country = 'Westeros'"
   ]
  },
  {
   "cell_type": "markdown",
   "metadata": {},
   "source": [
    "### Introducing Emissions\n",
    "\n",
    "The [IEA ETSAP - Technology Brief E02](https://iea-etsap.org/E-TechDS/PDF/E02-gas_fired_power-GS-AD-gct.pdf) states that CCGT plant cause CO2 emissions of 340 kgCO2/MWh. Converting this value into tCO2/kWa this gives 2,98 tCO2/kWa. The emission factor for gas is added in the cell below."
   ]
  },
  {
   "cell_type": "code",
   "execution_count": 1570,
   "metadata": {},
   "outputs": [
    {
     "name": "stderr",
     "output_type": "stream",
     "text": [
      "INFO:root:unit `tCO2/kWa` is already defined in the platform instance\n",
      "INFO:root:unit `MtCO2` is already defined in the platform instance\n"
     ]
    }
   ],
   "source": [
    "# emission of CO2 and the emission category GHG are introduced\n",
    "scen_bound.add_set('emission', 'CO2')\n",
    "scen_bound.add_cat('emission', 'GHG', 'CO2')\n",
    "\n",
    "\n",
    "base_emission_factor = {\n",
    "    'node_loc': country,\n",
    "    'year_vtg': vintage_years,\n",
    "    'year_act': act_years,\n",
    "    'mode': 'standard',\n",
    "    'unit': 'tCO2/kWa',\n",
    "}\n",
    "\n",
    "# adding new units to the model library (needed only once)\n",
    "mp.add_unit('tCO2/kWa')\n",
    "mp.add_unit('MtCO2')\n",
    "\n",
    "# adding CO2 emissions to the coal and gas powerplant\n",
    "emission_factor_tech = {\n",
    "    'coal_ppl': 7.4,\n",
    "    'gas_ppl': 2.98,\n",
    "    'wind_ppl': 0,\n",
    "}\n",
    "\n",
    "for tec, val in emission_factor_tech.items():\n",
    "    emission_factor = make_df(base_emission_factor, technology=tec, emission= 'CO2', value =val)\n",
    "    scen_bound.add_par('emission_factor', emission_factor)"
   ]
  },
  {
   "cell_type": "markdown",
   "metadata": {},
   "source": [
    "### Introducing Emissions\n",
    "\n",
    "In the tutorial the emission bound was originally set to 500 MtCO2 over the entire model horizon. With this value, coal cannot exist in the last year (720).\n",
    "\n",
    "In order to find the \"sweet spot\" were all three technologies can coextist we have to find the right emission bound. \n",
    "- If the emission bound is set too high, we see only Gas and Coal existing as the model aims to find a solution at the lowest costs possible (this is the case for 700 MtCO2).  \n",
    "- If the emission bound is set too low, we see only Gas and Wind existing as the model needs to stick with the maximum emissions and throws out the most polluting technology (in this case coal) first (this is the case for 600 MtCO2).\n",
    "- The \"sweet spot\" is at an emission bound of 650 MtCO2 and is shown below."
   ]
  },
  {
   "cell_type": "code",
   "execution_count": 1571,
   "metadata": {},
   "outputs": [],
   "source": [
    "scen_bound.add_par('bound_emission', [country, 'GHG', 'all', 'cumulative'],\n",
    "             value=650., unit='MtCO2')"
   ]
  },
  {
   "cell_type": "code",
   "execution_count": 1572,
   "metadata": {},
   "outputs": [],
   "source": [
    "scen_bound.commit(comment='introducing emissions and setting too low upper bound')\n",
    "scen_bound.set_as_default()"
   ]
  },
  {
   "cell_type": "code",
   "execution_count": 1573,
   "metadata": {},
   "outputs": [],
   "source": [
    "scen_bound.solve()"
   ]
  },
  {
   "cell_type": "markdown",
   "metadata": {},
   "source": [
    "### Plotting Results"
   ]
  },
  {
   "cell_type": "code",
   "execution_count": 1574,
   "metadata": {},
   "outputs": [],
   "source": [
    "from tools import Plots\n",
    "p = Plots(scen_bound, country, firstyear=700)"
   ]
  },
  {
   "cell_type": "code",
   "execution_count": 1575,
   "metadata": {
    "scrolled": true
   },
   "outputs": [
    {
     "data": {
      "image/png": "[encoded data removed]",
      "text/plain": [
       "<Figure size 432x288 with 1 Axes>"
      ]
     },
     "metadata": {
      "needs_background": "light"
     },
     "output_type": "display_data"
    }
   ],
   "source": [
    "p.plot_activity(baseyear=True, subset=['coal_ppl', 'wind_ppl','gas_ppl'])"
   ]
  },
  {
   "cell_type": "code",
   "execution_count": 1576,
   "metadata": {},
   "outputs": [
    {
     "data": {
      "image/png": "[encoded data removed]",
      "text/plain": [
       "<Figure size 432x288 with 1 Axes>"
      ]
     },
     "metadata": {
      "needs_background": "light"
     },
     "output_type": "display_data"
    }
   ],
   "source": [
    "p.plot_capacity(baseyear=True, subset=['coal_ppl', 'wind_ppl', 'gas_ppl'])"
   ]
  },
  {
   "cell_type": "markdown",
   "metadata": {},
   "source": [
    "## Part 2 - Adding Emission Tax\n",
    "In the following part the price of CO2 is calculated using the determined emission bound of 650 MtCO2 in Part 2. "
   ]
  },
  {
   "cell_type": "code",
   "execution_count": 1577,
   "metadata": {},
   "outputs": [],
   "source": [
    "scen_bd = message_ix.Scenario(mp, model=model, scenario='emission_bound')\n",
    "emissions = scen_bd.var('EMISS', {'node': 'Westeros'})\n",
    "emission_prices = scen_bd.var('PRICE_EMISSION')"
   ]
  },
  {
   "cell_type": "code",
   "execution_count": 1578,
   "metadata": {},
   "outputs": [],
   "source": [
    "scen_tax = scen_bound.clone(model, 'carbon_tax','introducing a carbon tax',\n",
    "                  keep_solution=False)\n",
    "scen_tax.check_out()"
   ]
  },
  {
   "cell_type": "code",
   "execution_count": 1579,
   "metadata": {},
   "outputs": [],
   "source": [
    "scen_tax.add_set('emission', 'CO2')\n",
    "scen_tax.add_cat('emission', 'GHG', 'CO2')\n",
    "scen_tax.add_par('emission_factor', scen_bd.par('emission_factor'))"
   ]
  },
  {
   "cell_type": "code",
   "execution_count": 1580,
   "metadata": {},
   "outputs": [
    {
     "name": "stderr",
     "output_type": "stream",
     "text": [
      "INFO:root:unit `USD/tCO2` is already defined in the platform instance\n"
     ]
    },
    {
     "data": {
      "text/html": [
       "<div>\n",
       "<style scoped>\n",
       "    .dataframe tbody tr th:only-of-type {\n",
       "        vertical-align: middle;\n",
       "    }\n",
       "\n",
       "    .dataframe tbody tr th {\n",
       "        vertical-align: top;\n",
       "    }\n",
       "\n",
       "    .dataframe thead th {\n",
       "        text-align: right;\n",
       "    }\n",
       "</style>\n",
       "<table border=\"1\" class=\"dataframe\">\n",
       "  <thead>\n",
       "    <tr style=\"text-align: right;\">\n",
       "      <th></th>\n",
       "      <th>node</th>\n",
       "      <th>type_emission</th>\n",
       "      <th>type_tec</th>\n",
       "      <th>type_year</th>\n",
       "      <th>value</th>\n",
       "      <th>unit</th>\n",
       "    </tr>\n",
       "  </thead>\n",
       "  <tbody>\n",
       "    <tr>\n",
       "      <th>0</th>\n",
       "      <td>Westeros</td>\n",
       "      <td>GHG</td>\n",
       "      <td>all</td>\n",
       "      <td>700</td>\n",
       "      <td>11.507833</td>\n",
       "      <td>USD/tCO2</td>\n",
       "    </tr>\n",
       "    <tr>\n",
       "      <th>1</th>\n",
       "      <td>Westeros</td>\n",
       "      <td>GHG</td>\n",
       "      <td>all</td>\n",
       "      <td>710</td>\n",
       "      <td>18.745048</td>\n",
       "      <td>USD/tCO2</td>\n",
       "    </tr>\n",
       "    <tr>\n",
       "      <th>2</th>\n",
       "      <td>Westeros</td>\n",
       "      <td>GHG</td>\n",
       "      <td>all</td>\n",
       "      <td>720</td>\n",
       "      <td>30.533708</td>\n",
       "      <td>USD/tCO2</td>\n",
       "    </tr>\n",
       "  </tbody>\n",
       "</table>\n",
       "</div>"
      ],
      "text/plain": [
       "       node type_emission type_tec type_year      value      unit\n",
       "0  Westeros           GHG      all       700  11.507833  USD/tCO2\n",
       "1  Westeros           GHG      all       710  18.745048  USD/tCO2\n",
       "2  Westeros           GHG      all       720  30.533708  USD/tCO2"
      ]
     },
     "execution_count": 1580,
     "metadata": {},
     "output_type": "execute_result"
    }
   ],
   "source": [
    "scen_tax.add_set('type_year', [700, 710, 720])\n",
    "\n",
    "base_tax_emission = {\n",
    "    'node': 'Westeros',\n",
    "    'type_year': [700, 710, 720],\n",
    "    'type_tec': 'all',\n",
    "    'unit': 'USD/tCO2',\n",
    "    'type_emission': 'GHG',\n",
    "    'value': emission_prices.set_index('year').lvl\n",
    "}\n",
    "\n",
    "# in case you need to add the new unit to the platform\n",
    "mp.add_unit('USD/tCO2')\n",
    "\n",
    "tax_emission = make_df(base_tax_emission)\n",
    "scen_tax.add_par('tax_emission', tax_emission)\n",
    "scen_tax.par('tax_emission')"
   ]
  },
  {
   "cell_type": "code",
   "execution_count": 1581,
   "metadata": {},
   "outputs": [],
   "source": [
    "scen_tax.commit(comment='setting taxes on emissions')"
   ]
  },
  {
   "cell_type": "code",
   "execution_count": 1582,
   "metadata": {
    "slideshow": {
     "slide_type": "skip"
    }
   },
   "outputs": [],
   "source": [
    "mp.close_db()"
   ]
  }
 ],
 "metadata": {
  "anaconda-cloud": {},
  "kernelspec": {
   "display_name": "Python 3",
   "language": "python",
   "name": "python3"
  },
  "language_info": {
   "codemirror_mode": {
    "name": "ipython",
    "version": 3
   },
   "file_extension": ".py",
   "mimetype": "text/x-python",
   "name": "python",
   "nbconvert_exporter": "python",
   "pygments_lexer": "ipython3",
   "version": "3.7.6"
  }
 },
 "nbformat": 4,
 "nbformat_minor": 2
}
